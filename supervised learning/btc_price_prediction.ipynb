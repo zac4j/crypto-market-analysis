{
 "cells": [
  {
   "cell_type": "markdown",
   "metadata": {},
   "source": [
    "# Predicting Bitcoin Price with Supervised Learning Methods\n",
    "\n",
    "In the world of cryptocurrency market, traditional technical analysis (TA) is a method for studying historical price charts and trading volume data to identify potential future price movements. However, due to the inherent volatility and non-linear relationships within the market, traditional methods often fall short.\n",
    "\n",
    "This project aims to develop and evaluate Supervised Learning models for predicting bitcoin price. The focus will be on assessing the effectiveness of Linear Regression and Support Vector Machines (SVM) in capturing historical price patterns and making predictions for future price movements.\n",
    "\n",
    "All source in this project uploaded to this git repo: https://github.com/zac4j/btc-price-prediction"
   ]
  },
  {
   "cell_type": "markdown",
   "metadata": {},
   "source": [
    "## Data Preparetion\n",
    "\n",
    "### Data Description\n",
    "\n",
    "I will use the [5 Years of Cryptocurrency Historical Prices](https://www.kaggle.com/datasets/mjdskaggle/5-years-of-crypto-data-as-of-632024/data.) data. This dataset contains the historical price information of some of the top crypto currencies by market capitalization, in this project I'll use the Bitcoin data. Price history is start from 5 years ago as of **June 03, 2024**.\n",
    "\n",
    "|Factor |\tDescription|\n",
    "|:---------|:-------------|\n",
    "|Date |\tDate of observation|\n",
    "|Open |\tOpening price on the given day|\n",
    "|High |\tHighest price on the given day|\n",
    "|Low  |\tLowest price on the given day|\n",
    "|Close | Closing price on the given day|\n",
    "|Volumn| Volume of transactions on the given day|"
   ]
  },
  {
   "cell_type": "markdown",
   "metadata": {},
   "source": [
    "### Data Initialization\n",
    "\n",
    "Loading and Previewing Bitcoin Historical Price Data"
   ]
  },
  {
   "cell_type": "code",
   "execution_count": null,
   "metadata": {},
   "outputs": [],
   "source": [
    "import pandas as pd\n",
    "import numpy as np\n",
    "\n",
    "# Load Bitcoin csv data\n",
    "filename = 'data/BTC-USD.csv'\n",
    "df = pd.read_csv(filename,parse_dates=['Date'],index_col='Date')"
   ]
  },
  {
   "cell_type": "markdown",
   "metadata": {},
   "source": [
    "Display Data Frame Information"
   ]
  },
  {
   "cell_type": "code",
   "execution_count": null,
   "metadata": {},
   "outputs": [],
   "source": [
    "from IPython.display import display, Markdown\n",
    "\n",
    "display(Markdown(f\"### DataFrame \"))\n",
    "display(df.head())\n",
    "df.info()"
   ]
  },
  {
   "cell_type": "markdown",
   "metadata": {},
   "source": [
    "Based on the above information, we can observe the following attributes of the DataFrame:\n",
    "\n",
    "- It contains non-null values, guaranteed data integrity.\n",
    "- It contains two closing price features: **Close** and **Adj Close**, for the price prediction, we will use the *Adj Close* (Adjusted Closing Price).\n",
    "- The **Date** column represents the date of observation, also serving as the index of the DataFrame.\n",
    "- The other columns are numeric values:\n",
    "  - **Open**: Indicates the opening price of the Bitcoin for the given day in USD.\n",
    "  - **High**: Indicates the highest price of the Bitcoin for the given day in USD.\n",
    "  - **Low**: Indicates the lowest price of the Bitcoin for the given day in USD.\n",
    "  - **Close**: Indicates the closing price of the Bitcoin for the given day in USD.\n",
    "  - **Adj Close**: Indicates the adjusted closing price of the Bitcoin for the given day in USD.\n",
    "  - **Volume**: Represents the volume of the Bitcoin for the given day."
   ]
  },
  {
   "cell_type": "markdown",
   "metadata": {},
   "source": [
    "## Data Cleaning"
   ]
  },
  {
   "cell_type": "markdown",
   "metadata": {},
   "source": [
    "### Data Format Consistent Check"
   ]
  },
  {
   "cell_type": "code",
   "execution_count": null,
   "metadata": {},
   "outputs": [],
   "source": [
    "from pandas import DataFrame\n",
    "def check_format_consistent(df: DataFrame) -> None:\n",
    "    \"\"\"\n",
    "    Check and display format consistent for a given DataFrame.\n",
    "\n",
    "    Parameters:\n",
    "        df: A given DataFrame.\n",
    "\n",
    "    \"\"\"\n",
    "    display(Markdown(\"### Data Format Consistent:\"))\n",
    "    # Check data types\n",
    "    display(Markdown(f\"- Data Types: {df.dtypes}\"))\n",
    "    # Check for missing values\n",
    "    display(Markdown(f\"- Null Values: {df.isna().sum()}\"))\n",
    "    # Check for unique values\n",
    "    display(Markdown(f\"- Unique Values: {df.nunique()}\"))\n",
    "\n",
    "check_format_consistent(df)"
   ]
  },
  {
   "cell_type": "markdown",
   "metadata": {},
   "source": [
    "Based on the above observation, we see the DataFrame have a consistent format."
   ]
  },
  {
   "cell_type": "markdown",
   "metadata": {},
   "source": [
    "### Outlier Detection"
   ]
  },
  {
   "cell_type": "code",
   "execution_count": null,
   "metadata": {},
   "outputs": [],
   "source": [
    "def detect_outlier(df: DataFrame) -> dict:\n",
    "    outlier_info = {}\n",
    "    # Pick numerical columns\n",
    "    num_cols = df.select_dtypes(include=['number']).columns\n",
    "\n",
    "    # Initialize outlier data frames\n",
    "    num_outliers = {}\n",
    "    pct_outliers = {}\n",
    "\n",
    "    # Data statistics summary\n",
    "    desc = df.describe()\n",
    "    for col in num_cols:\n",
    "        # Get quartiles and IQR\n",
    "        q1 = desc.loc['25%', col]\n",
    "        q3 = desc.loc['75%', col]\n",
    "        iqr = q3 - q1\n",
    "        \n",
    "        # Define the outlier range\n",
    "        outlier_range = 1.5 * iqr\n",
    "\n",
    "        # Count the number of outliers\n",
    "        num_outliers[col] = ((df[col] > q3 + outlier_range) | (df[col] < q1 - outlier_range)).sum()\n",
    "\n",
    "        # Compute the percentage of outliers\n",
    "        percentage = (num_outliers[col] / len(df[col])) * 100\n",
    "        pct_outliers[col] = \"{:.2f}%\".format(percentage)\n",
    "\n",
    "    outlier_info = {\n",
    "        'numerical_outliers': num_outliers,\n",
    "        'percent_outliers': pct_outliers\n",
    "    }\n",
    "    return outlier_info\n",
    "\n",
    "outlier_info = detect_outlier(df)\n",
    "print(outlier_info)"
   ]
  },
  {
   "cell_type": "markdown",
   "metadata": {},
   "source": [
    "Base on above obervation, only Volume feature have outliers, however, at this moment, I prefer to retain the outliers for the Volume, because employ new Volume value may introduce bias for the prices."
   ]
  },
  {
   "cell_type": "markdown",
   "metadata": {},
   "source": [
    "## Exploratory Data Analysis"
   ]
  },
  {
   "cell_type": "markdown",
   "metadata": {},
   "source": [
    "### Correlation of features"
   ]
  },
  {
   "cell_type": "code",
   "execution_count": null,
   "metadata": {},
   "outputs": [],
   "source": [
    "import matplotlib.pyplot as plt\n",
    "import seaborn as sns\n",
    "def display_correlation_heatmap(df: DataFrame):\n",
    "    # Pick numerical data\n",
    "    numeric_data = df.select_dtypes(include=[np.number])\n",
    "    # Get features correlation\n",
    "    corr_matrix = numeric_data.corr()\n",
    "\n",
    "    # Find the most correlated pair features\n",
    "    corr_matrix_value = corr_matrix.mask(corr_matrix == 1.0).stack().idxmax()\n",
    "    print(f'The most correlated feature pair is {corr_matrix_value}, with the value of {corr_matrix.loc[corr_matrix_value]} ')\n",
    "\n",
    "    # Plot correlation heatmap\n",
    "    plt.figure(figsize=(10,8))\n",
    "    sns.heatmap(corr_matrix, annot=True, cmap='coolwarm',fmt='.2f')\n",
    "    plt.title('Bitcoin Features Correlation Heatmap')\n",
    "    plt.show()\n",
    "\n",
    "display_correlation_heatmap(df)"
   ]
  },
  {
   "cell_type": "markdown",
   "metadata": {},
   "source": [
    "Based on the above correlation heatmap, we know that the OHLC features are strong positive correlation(close to 1)."
   ]
  },
  {
   "cell_type": "markdown",
   "metadata": {},
   "source": [
    "### Price Movements and Trends"
   ]
  },
  {
   "cell_type": "markdown",
   "metadata": {},
   "source": [
    "#### The OHLC (Open, High, Low, Close) prices historical trend"
   ]
  },
  {
   "cell_type": "code",
   "execution_count": null,
   "metadata": {},
   "outputs": [],
   "source": [
    "from matplotlib.colors import rgb2hex\n",
    "import plotly.graph_objects as go\n",
    "def plot_prices(features:list[str]):\n",
    "    # Define a color palette for the features\n",
    "    palette = sns.color_palette('Paired', n_colors=len(features))\n",
    "    hex_palette = [rgb2hex(color) for color in palette]\n",
    "    # Define line style for the features\n",
    "    dashes = ['solid','dash', 'dot', 'dashdot']\n",
    "    fig = go.Figure()\n",
    "\n",
    "    # Function to create and show plots for a given feature\n",
    "    for feature, color, dash in zip(features, hex_palette, dashes):\n",
    "        fig.add_trace(go.Scatter(x=df.index, y=df[feature], mode='lines', name=feature, line=dict(color=color,dash=dash)))\n",
    "    \n",
    "    fig.update_layout(\n",
    "            title=\"Bitcoin OHLC Prices Over Time\",\n",
    "            xaxis_title='Date',\n",
    "            yaxis_title='Price',\n",
    "            template='plotly_dark',\n",
    "            autosize=True,\n",
    "            height=600,\n",
    "        )\n",
    "        \n",
    "    fig.show()\n",
    "# OHLC Features\n",
    "features = [\"Open\",\"High\",\"Low\",\"Close\"]\n",
    "plot_prices(features)"
   ]
  },
  {
   "cell_type": "markdown",
   "metadata": {},
   "source": [
    "Base on above chart, we can observe that:\n",
    "\n",
    "Even through the prices may fluctuating significantly over time, the long-term trend is steady growth.\n",
    "\n",
    "Bearish Phases:\n",
    "\n",
    "- 2014-2015: Prices decline significantly.\n",
    "- 2018-2019: Another bearish phase with a downward trend.\n",
    "\n",
    "Bullish Phases:\n",
    "\n",
    "- 2017: A strong bullish phase for Bitcoin.\n",
    "- 2020-2021: Another bullish period with notable price growth"
   ]
  },
  {
   "cell_type": "markdown",
   "metadata": {},
   "source": [
    "#### Relationship between opening and closing price"
   ]
  },
  {
   "cell_type": "code",
   "execution_count": null,
   "metadata": {},
   "outputs": [],
   "source": [
    "from scipy.stats import linregress\n",
    "import plotly.express as px\n",
    "\n",
    "# Calculate given features regression statistics\n",
    "def calculate_regression_stats(x, y):\n",
    "    \"\"\"\n",
    "    Calculate regression statistics for the given data.\n",
    "\n",
    "    This function computes the slope, intercept, coefficient of determination (R-squared),\n",
    "    p-value, and standard error of the regression line for the provided x and y data.\n",
    "\n",
    "    Parameters:\n",
    "    x (array-like): The independent variable data.\n",
    "    y (array-like): The dependent variable data.\n",
    "\n",
    "    Returns:\n",
    "    dict: A dictionary containing the following keys and their corresponding values:\n",
    "        - 'slope': The slope of the regression line.\n",
    "        - 'intercept': The intercept of the regression line.\n",
    "        - 'r_squared': The coefficient of determination (R-squared) value.\n",
    "        - 'p_value': The p-value for the slope.\n",
    "        - 'std_err': The standard error of the regression line.\n",
    "    \"\"\"\n",
    "    slope, intercept, r_value, p_value, std_err = linregress(x, y)\n",
    "    return {\n",
    "        'slope': slope,\n",
    "        'intercept': intercept,\n",
    "        'r_squared': r_value**2,\n",
    "        'p_value': p_value,\n",
    "        'std_err': std_err\n",
    "    }\n",
    "\n",
    "# Define meaningful pairs of numerical features\n",
    "features = [('Open', 'Close')]\n",
    "\n",
    "# Create scatter plots for each pair of numerical features for each selected coin\n",
    "for feature_x, feature_y in features:\n",
    "    # Filter data for the specific coin\n",
    "    coin_data = df\n",
    "\n",
    "    # Create scatter plot\n",
    "    fig = px.scatter(\n",
    "        coin_data, x=feature_x, y=feature_y, title=f'{feature_x} vs {feature_y} (Bitcoin)',\n",
    "        labels={feature_x: feature_x, feature_y: feature_y},\n",
    "        template='plotly_dark', opacity=0.5\n",
    "    )\n",
    "\n",
    "    # Calculate regression statistics\n",
    "    stats = calculate_regression_stats(coin_data[feature_x], coin_data[feature_y])\n",
    "    # print(stats)\n",
    "\n",
    "    # Conditionally add the regression line if R² is above a threshold and p-value is below a threshold\n",
    "    if stats['r_squared'] > 0.5 and stats['p_value'] < 0.05:\n",
    "        fig.add_trace(\n",
    "            go.Scatter(\n",
    "                x=coin_data[feature_x], y=stats['slope']*coin_data[feature_x] + stats['intercept'],\n",
    "                mode='lines', name=f\"y = {stats['slope']:.2f}x + {stats['intercept']:.2f}\",\n",
    "                line=dict(color='red')\n",
    "            )\n",
    "        )\n",
    "    else:\n",
    "        print(f\"The relationship between {feature_x} and {feature_y} for Bitcoin is not significant.\")\n",
    "\n",
    "    fig.show()\n"
   ]
  },
  {
   "cell_type": "markdown",
   "metadata": {},
   "source": [
    "Based on above chart, we can observe that:\n",
    "\n",
    "The opening price (Open) and the closing price (Close) have a positive linear relationship. As the opening price increases, the closing price increase as well."
   ]
  },
  {
   "cell_type": "markdown",
   "metadata": {},
   "source": [
    "### Volume Change Over Time"
   ]
  },
  {
   "cell_type": "code",
   "execution_count": null,
   "metadata": {},
   "outputs": [],
   "source": [
    "def plot_volume():\n",
    "    feature_volume = \"Volume\"\n",
    "    fig = go.Figure()\n",
    "    # Function to create and show plot for a given feature\n",
    "    fig.add_trace(go.Scatter(x=df.index, y=df[feature_volume], mode='lines', name=feature_volume, line=dict(color='blue')))\n",
    "    \n",
    "    fig.update_layout(\n",
    "            title=\"Bitcoin Volume Change Over Time\",\n",
    "            xaxis_title='Date',\n",
    "            yaxis_title='Price',\n",
    "            template='plotly_dark',\n",
    "            autosize=True,\n",
    "            height=600,\n",
    "        )\n",
    "        \n",
    "    fig.show()\n",
    "# Plot volume movement chart\n",
    "plot_volume()"
   ]
  },
  {
   "cell_type": "markdown",
   "metadata": {},
   "source": [
    "Based on the volume change chart, we observe that the most transaction happened in March, 2021, marks the time when the cryptocurrency market atmosphere is the most enthusiastic."
   ]
  },
  {
   "cell_type": "markdown",
   "metadata": {},
   "source": [
    "### Volume correlate with price changes"
   ]
  },
  {
   "cell_type": "code",
   "execution_count": null,
   "metadata": {},
   "outputs": [],
   "source": [
    "# Define meaningful pairs of numerical features\n",
    "feature_pairs = [\n",
    "    ('Open', 'Volume'),\n",
    "    ('Close', 'Volume')\n",
    "]\n",
    "\n",
    "# Create scatter plots for each pair of features\n",
    "for feature_x, feature_y in feature_pairs:\n",
    "    # Create scatter plot\n",
    "    fig = px.scatter(\n",
    "        df, x=feature_x, y=feature_y, title=f'{feature_x} vs {feature_y} (Bitcoin)',\n",
    "        labels={feature_x: feature_x, feature_y: feature_y},\n",
    "        template='plotly_dark', opacity=0.5\n",
    "    )\n",
    "\n",
    "    # Calculate regression statistics\n",
    "    stats = calculate_regression_stats(df[feature_x], df[feature_y])\n",
    "\n",
    "    # Conditionally add the regression line if R² is above a threshold and p-value is below a threshold\n",
    "    if stats['r_squared'] > 0.5 and stats['p_value'] < 0.05:\n",
    "        fig.add_trace(\n",
    "            go.Scatter(\n",
    "                x=df[feature_x], y=stats['slope']*df[feature_x] + stats['intercept'],\n",
    "                mode='lines', name=f\"y = {stats['slope']:.2f}x + {stats['intercept']:.2f}\",\n",
    "                line=dict(color='red')\n",
    "            )\n",
    "        )\n",
    "    else:\n",
    "        print(f\"The relationship between {feature_x} and {feature_y} for Bitcoin is not significant.\")\n",
    "\n",
    "    # Show the plot\n",
    "    fig.show()"
   ]
  },
  {
   "cell_type": "markdown",
   "metadata": {},
   "source": [
    "Based on above charts, we can oberve that:\n",
    "- The opening price (\"Open\") and the trading volume (\"Volume\") have a positive correlation.\n",
    "- The closing price (\"Close\") and the trading volume (\"Volume\") have a positive correlation as well.\n",
    "\n",
    "This also indicates price change impact trading volume."
   ]
  },
  {
   "cell_type": "markdown",
   "metadata": {},
   "source": [
    "### Investment Returns"
   ]
  },
  {
   "cell_type": "code",
   "execution_count": null,
   "metadata": {},
   "outputs": [],
   "source": [
    "# Calculate daily returns and cumulative returns\n",
    "df['return'] = df['Close'].pct_change()\n",
    "df['Cumulative_Return'] = (1 + df['return']).cumprod() - 1\n",
    "\n",
    "# Create a Plotly figure\n",
    "fig = go.Figure()\n",
    "    \n",
    "# Add trace for cumulative returns\n",
    "fig.add_trace(go.Scatter(\n",
    "    x=df.index, \n",
    "    y=df['Cumulative_Return'], \n",
    "    mode='lines', \n",
    "    name=f\"{df['Cumulative_Return']}\", \n",
    "    line=dict(color='green')\n",
    "))\n",
    "\n",
    "# Update layout\n",
    "fig.update_layout(\n",
    "    title='Cumulated Return for Bitcoin',\n",
    "    xaxis_title='Date',\n",
    "    yaxis_title='Cumulative Return',\n",
    "    template='plotly_dark',  # Set the dark theme\n",
    "    height=600,  # Adjust height as needed\n",
    ")\n",
    "\n",
    "# Show the plot\n",
    "fig.show()"
   ]
  },
  {
   "cell_type": "markdown",
   "metadata": {},
   "source": [
    "Given above cumulative return chart, we can observe that:\n",
    "- During Oct, 2020 - Nov, 2021, Bitcoin generated obvisously high profits.\n",
    "- From Dec, 2022 - Present, Bitcoin generated highest profits."
   ]
  },
  {
   "cell_type": "markdown",
   "metadata": {},
   "source": [
    "## Models"
   ]
  },
  {
   "cell_type": "markdown",
   "metadata": {},
   "source": [
    "In the previous section we completed data processing and feature engineering, in this section we focus on using different Supervised Learning algorithms to create and train models and thne make predictions on Bitcoin price."
   ]
  },
  {
   "cell_type": "markdown",
   "metadata": {},
   "source": [
    "### Bitcoin Price Prediction Use LinearRegression"
   ]
  },
  {
   "cell_type": "code",
   "execution_count": null,
   "metadata": {},
   "outputs": [],
   "source": [
    "from sklearn.linear_model import LinearRegression\n",
    "from sklearn.model_selection import train_test_split\n",
    "from sklearn.metrics import mean_squared_error, r2_score\n",
    "\n",
    "# Use previously proccessed data\n",
    "data = df\n",
    "# Create variable N to predict future N days price.\n",
    "N = 5\n",
    "# Adj Close (Adjusted Close Price) can be used for long-term price analysis\n",
    "data['Prediction'] = data['Adj Close'].shift(-N)\n",
    "\n",
    "# Split data into features (X) and target (y)\n",
    "# Feature: use Adjusted Closing Price as train feature\n",
    "X = data[['Adj Close']][:-N]\n",
    "# Target: Predict future prices\n",
    "y = data['Prediction'][:-N]\n",
    "\n",
    "# Split data into train and test sets\n",
    "X_train, X_test, y_train, y_test = train_test_split(X, y, test_size=0.2, random_state=42)\n",
    "\n",
    "# Create and fit the linear regression model\n",
    "model = LinearRegression()\n",
    "model.fit(X_train, y_train)\n",
    "\n",
    "# Target predict on the test sets\n",
    "y_pred = model.predict(X_test)\n",
    "\n",
    "# Evaluate model performance\n",
    "mse = mean_squared_error(y_test, y_pred)\n",
    "rmse = mse ** 0.5\n",
    "r2 = r2_score(y_test, y_pred)\n",
    "print(f'Linear Regression Model got MSE: {mse}, RMSE: {rmse}, R²: {r2}')\n",
    "\n",
    "# Make predictions on the projection set\n",
    "X_projection = data[['Adj Close']][-N:]\n",
    "print(X_projection)\n",
    "y_projection = model.predict(X_projection)\n",
    "print(f'Linear Regression Model predicted BTC next {N} days price are: {y_projection}')\n",
    "\n",
    "# Append predict data to existing data sets\n",
    "data_series = pd.Series(y_projection)\n",
    "data = pd.concat([data, data_series.to_frame('Prediction')], ignore_index=True)\n",
    "\n",
    "# Draw historical (include predict data) line\n",
    "fig = go.Figure()\n",
    "fig.add_trace(go.Scatter(x=data.index,y=data['Prediction'],\n",
    "            mode='lines',\n",
    "            fill='none',\n",
    "            showlegend=False,\n",
    "            line=dict(color='green',dash='solid')))\n",
    "\n",
    "fig.update_layout(title=\"Bitcoin Price Data Prediction\",\n",
    "            xaxis_title='Date',\n",
    "            yaxis_title='Price',\n",
    "            template='plotly_dark',\n",
    "            autosize=True,\n",
    "            height=600)\n",
    "        \n",
    "fig.show()\n"
   ]
  },
  {
   "cell_type": "markdown",
   "metadata": {},
   "source": [
    "We got Model MSE: 6210016.296432966 with R²: 0.9802407135806924, it looks not bad so far, let's continue to see how other models perform."
   ]
  },
  {
   "cell_type": "markdown",
   "metadata": {},
   "source": [
    "### Bitcoin Price Prediction Use SVM"
   ]
  },
  {
   "cell_type": "code",
   "execution_count": null,
   "metadata": {},
   "outputs": [],
   "source": [
    "from sklearn.preprocessing import StandardScaler\n",
    "from sklearn.svm import SVR\n",
    "from sklearn.model_selection import GridSearchCV\n",
    "\n",
    "# Use previously proccessed data\n",
    "data = df\n",
    "\n",
    "# Drop rows with missing values\n",
    "data.dropna(inplace=True)\n",
    "\n",
    "X = data[['Open', 'High', 'Low']][:-1]\n",
    "# Define and fit the scaler\n",
    "scaler = StandardScaler()\n",
    "scaled_features = scaler.fit_transform(X)\n",
    "\n",
    "# Predict next day close price\n",
    "target_variable = data['Close'][:-1]  # Shift target by 1 for prediction\n",
    "\n",
    "X_train, X_test, y_train, y_test = train_test_split(scaled_features, target_variable, test_size=0.2, random_state=42)\n",
    "\n",
    "# Define and train the SVR model\n",
    "model = SVR(kernel='rbf', C=191, gamma=0.1)\n",
    "model.fit(X_train, y_train)\n",
    "\n",
    "# Make predictions on the testing set\n",
    "y_predicted = model.predict(X_test)\n",
    "\n",
    "# Calculate MSE and R-squared\n",
    "mse = mean_squared_error(y_test, y_predicted)\n",
    "r2 = r2_score(y_test, y_predicted)\n",
    "\n",
    "print(f\"SVM Model1 got Mean Squared Error: {mse:.2f}\")\n",
    "print(f\"SVM Model1 got R-squared: {r2:.6f}\")\n",
    "\n",
    "# Prediction on data\n",
    "X_projection = data[['Open', 'High', 'Low']][-1:]\n",
    "scaled_X = scaler.transform(X_projection)\n",
    "predict_price = model.predict(scaled_X)\n",
    "print(f\"SVM Model1 predicted BTC next day price: {predict_price}\")"
   ]
  },
  {
   "cell_type": "markdown",
   "metadata": {},
   "source": [
    "Given random selected kernel, C and gamma value, we got the R-squared value as 0.97 with Mean Squared Error which indicates this is not a good predict. Fortunately, we could use the GridSearchCV to identify best parameters and improve predict quality."
   ]
  },
  {
   "cell_type": "code",
   "execution_count": null,
   "metadata": {},
   "outputs": [],
   "source": [
    "# Use GridSearchCV to grab the best parameters\n",
    "c_range = [i for i in range(1, 200, 10)]\n",
    "gamma_range = [0.1, 0.3, 0.5, 0.7, 0.9]\n",
    "epsilon_range = [0.01, 0.1, 1.0]\n",
    "kernel = ['linear', 'rbf']\n",
    "param_grid = dict(gamma=gamma_range, C=c_range, kernel=kernel,epsilon=epsilon_range)\n",
    "grid = GridSearchCV(model, param_grid=param_grid, cv=5)\n",
    "grid.fit(X_train, y_train)\n",
    "\n",
    "print(\"best parameters: \", grid.best_params_)\n",
    "print(\"best accuracy: \", grid.best_score_)"
   ]
  },
  {
   "cell_type": "markdown",
   "metadata": {},
   "source": [
    "With the help of GridSearchCV, we got best paramters {'C': 191, 'epsilon': 1.0, 'gamma': 0.1, 'kernel': 'linear'}, so let's create new model with these best parameters, and make prediction again."
   ]
  },
  {
   "cell_type": "code",
   "execution_count": null,
   "metadata": {},
   "outputs": [],
   "source": [
    "# Create model2 with given best parameters\n",
    "model2 = SVR(kernel='linear', C=191, gamma=0.1, epsilon = 1.0)\n",
    "model2.fit(X_train, y_train)\n",
    "\n",
    "y_predicted = model2.predict(X_test)\n",
    "\n",
    "# Calculate MSE and R-squared\n",
    "mse = mean_squared_error(y_test, y_predicted)\n",
    "r2 = r2_score(y_test, y_predicted)\n",
    "\n",
    "print(f\"SVM Model2 Mean Squared Error: {mse:.2f}\")\n",
    "print(f\"SVM Model2 R-squared: {r2:.6f}\")\n",
    "\n",
    "predict_price = model2.predict(scaled_X)\n",
    "print(f\"SVM Model2 predicted BTC next day price: {predict_price}\")"
   ]
  },
  {
   "cell_type": "markdown",
   "metadata": {},
   "source": [
    "After using given best parameters, we got R-squared value as 0.998649 with MSE value as 427034.38, which indicates a better model compared to the previous one, the predicted price of next day of BTC is 68738.20440099, which looks make sense and more reasonable."
   ]
  },
  {
   "cell_type": "markdown",
   "metadata": {},
   "source": [
    "## Results and Analysis"
   ]
  },
  {
   "cell_type": "markdown",
   "metadata": {},
   "source": [
    "### Model Evaluation Results Analysis\n",
    "\n",
    "Based on above output here we got below Model Evaluation Results:\n",
    "\n",
    "|          Model          |      MSE     |    RMSE    | R-squared |\n",
    "|:-----------------------:|:------------:|:----------:|:---------:|\n",
    "| Linear Regression Model | 6,210,016.29 | 2,491.99   | 0.9802    |\n",
    "| SVM Model1              | 9,724,326.35 | ~3,119.24  | 0.9692    |\n",
    "| SVM Model2              | 427,034.38   | ~654.07    | 0.9986    |\n",
    "\n",
    "Note: SVM RMSE values are estimated based on MSE (RMSE = sqrt(MSE))."
   ]
  },
  {
   "cell_type": "markdown",
   "metadata": {},
   "source": [
    "#### Linear Regression Result\n",
    "\n",
    "For the Linear Regression Model, the high R-squared value(>0.98) suggests a strong correlation between the predicted and actual values. However, the large MSE and RMSE indicate significant absolute errors in the predictions."
   ]
  },
  {
   "cell_type": "markdown",
   "metadata": {},
   "source": [
    "#### SVM Results\n",
    "\n",
    "The two SVM results offer contrasting outcomes:\n",
    "\n",
    "- SVM Result1: Similar to the linear regression, the R-squared value suggest a good fit, but the high MSE indicates large prediction errors.\n",
    "- SVM Result2: This SVM model achieved the lowest lower MSE and highest R-squared value, which suggest potentially more accurate prediction.\n",
    "\n",
    "This also indicates the GridSearchCV help great to tuning hyperparameter to make good prediction!"
   ]
  },
  {
   "cell_type": "markdown",
   "metadata": {},
   "source": [
    "### Overall Observation\n",
    "\n",
    "- It's challenging to say which model or method performs best based on the limited data provided. However, SVM Model2 shows promise with lowest MSE and highest R-squared value.\n",
    "- High R-squared values alone can be misleading, especially for financial time series data. It's crucial to consider the absolute errors for a more realistic assessment of prediction accuracy.\n",
    "- All models likely suffer from limitations in capturing the non-linear nature of Bitcoin price movement."
   ]
  },
  {
   "cell_type": "markdown",
   "metadata": {},
   "source": [
    "## Conclusion"
   ]
  },
  {
   "cell_type": "markdown",
   "metadata": {},
   "source": [
    "This project explored the potential of supervised learning algorithms, specifically linear regression and SVM, for predicting Bitcoin prices. While the project contributes to the ongoing investigation of machine learning in financial forecasting, the results highlight the challenges associated with this task.\n",
    "\n",
    "The evaluation metrics suggest that linear models may not be sufficient for capturing the complex, non-linear dynamics of cryptocurrency markets. While they achieved high R-squared values, indicating a good fit to the data, the large absolute errors (MSE, RMSE) reveal limitations in accurately predicting future prices.\n",
    "\n",
    "This finding underscores the importance of considering the inherent non-linearity of cryptocurrency price movements. Future efforts in this domain could benefit from exploring alternative models like Long Short-Term Memory (LSTM) networks, which are specifically designed for time series data and can potentially learn and model these non-linear relationships more effectively.\n",
    "\n",
    "Furthermore, we can incorporate additional features beyond the OHLC and volume data, such as news sentiment analysis, or technical indicators, might further improve the accuracy of predictions.\n",
    "\n",
    "By acknowledging the limitations of the current approach and outlining potential avenues for improvement, this project lays the groundwork for further exploration of advanced machine learning techniques for Bitcoin price forecasting. It emphasizes the need for continuous learning and experimentation in this ever-evolving field.\n"
   ]
  },
  {
   "cell_type": "markdown",
   "metadata": {},
   "source": [
    "## Reference\n",
    "\n",
    "The following papers or projects provided great help during the design and implementation of this project\n",
    "\n",
    "- [Stock price prediction based on financial statements using SVM](https://gvpress.com/journals/IJHIT/vol9_no2/5.pdf)\n",
    "- [Crypto-currency price prediction using decision tree and regression techniques](https://ieeexplore.ieee.org/abstract/document/8862585/?casa_token=CYP8qUONrC0AAAAA:1jOuWfcsjRj08mJivToycTitTiMQndn9FmxZIVgNiaJRd_jB7T2VYl1BO_HekUnpjI6kG1_hOQ)\n",
    "- [5 Years of Crypto Data as of 6/3/2024](https://www.kaggle.com/datasets/mjdskaggle/5-years-of-crypto-data-as-of-632024/data)\n",
    "- [EDA for Cryptocurrency](https://www.kaggle.com/code/yannaktb/eda-for-cryptocurrency)\n",
    "- [Dogecoin Price Prediction](https://www.kaggle.com/code/iahhel/dogecoin-price-prediction-xgboost-gridsearchcv)\n",
    "- [Prediction of cryptocurrency price](https://www.kaggle.com/code/aishwarya2210/prediction-of-cryptocurrency-price/notebook)\n",
    "- [Exploring and Predicting Cryptocurrencies](https://www.kaggle.com/code/syedanwarafridi/exploring-and-predicting-cryptocurrencies/notebook)"
   ]
  }
 ],
 "metadata": {
  "kernelspec": {
   "display_name": "Python 3",
   "language": "python",
   "name": "python3"
  },
  "language_info": {
   "codemirror_mode": {
    "name": "ipython",
    "version": 3
   },
   "file_extension": ".py",
   "mimetype": "text/x-python",
   "name": "python",
   "nbconvert_exporter": "python",
   "pygments_lexer": "ipython3",
   "version": "3.10.13"
  }
 },
 "nbformat": 4,
 "nbformat_minor": 2
}
